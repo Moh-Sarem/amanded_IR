{
  "nbformat": 4,
  "nbformat_minor": 0,
  "metadata": {
    "colab": {
      "name": "IR-in-Arabic_LabA-BooleanRetrieval.ipynb",
      "provenance": [],
      "collapsed_sections": [],
      "authorship_tag": "ABX9TyPZvxpbDvbo+KKloYsue8YW",
      "include_colab_link": true
    },
    "kernelspec": {
      "name": "python3",
      "display_name": "Python 3"
    },
    "language_info": {
      "name": "python"
    }
  },
  "cells": [
    {
      "cell_type": "markdown",
      "metadata": {
        "id": "view-in-github",
        "colab_type": "text"
      },
      "source": [
        "<a href=\"https://colab.research.google.com/github/telsayed/IR-in-Arabic/blob/master/Summer2021/notebooks/IR_in_Arabic_LabA_BooleanRetrieval.ipynb\" target=\"_parent\"><img src=\"https://colab.research.google.com/assets/colab-badge.svg\" alt=\"Open In Colab\"/></a>"
      ]
    },
    {
      "cell_type": "markdown",
      "metadata": {
        "id": "5ZzUxXUVMVVU"
      },
      "source": [
        "\n",
        "\n",
        "# **IR in Arabic** - Summer 2021 lab notebook 1\n"
      ]
    },
    {
      "cell_type": "markdown",
      "metadata": {
        "id": "2kjTczIiMctt"
      },
      "source": [
        "This is one of a series of Colab notebooks created for the **IR in Arabic** course. It demonstrates how can we build a Term-Document incidence Matrix and a boolean retrieval model.\n",
        "\n",
        "The **learning outcomes** of the this notebook are:\n",
        "\n",
        "\n",
        "*   What is Colab and how can we run our code?\n",
        "*   Build a Term-Document incidence Matrix and visualize it.\n",
        "*   Build a boolean retrieval model that can answer a boolean query such as:\n",
        "\n"
      ]
    },
    {
      "cell_type": "markdown",
      "metadata": {
        "id": "So4LG0fB1HKb"
      },
      "source": [
        "# What is colab?\n",
        "\n",
        "**[Colaboratory](https://research.google.com/colaboratory/faq.html)**, or “Colab” for short, is a product from Google Research. Colab allows anybody to write and execute arbitrary python code through the browser, and is especially well suited to machine learning, data analysis and education. More technically, Colab is a hosted Jupyter notebook service that requires no setup to use, while providin free access to computing resources including GPUs.\n",
        "\n",
        "# How can you have your own copy of this lab?\n",
        "\n",
        "To open a copy of this notebook at your side please click [![Open In Colab](https://colab.research.google.com/assets/colab-badge.svg)](https://colab.research.google.com/drive/11Vch7Sy30PrZavtuJCb78CH6yS3y5IJ0#scrollTo=So4LG0fB1HKb), then go to **File->Save a copy in Drive**. This will create your version of this lab saved in your Google Drive."
      ]
    },
    {
      "cell_type": "markdown",
      "metadata": {
        "id": "gkS6LLkX6HHV"
      },
      "source": [
        "### **Setup**\n",
        "We will first install the required python libraries"
      ]
    },
    {
      "cell_type": "code",
      "metadata": {
        "id": "d1F8qD4Qo4QX",
        "colab": {
          "base_uri": "https://localhost:8080/"
        },
        "outputId": "3ac5f4c5-2254-4234-eb67-c2829321cb0a"
      },
      "source": [
        "!pip install Arabic-Stopwords"
      ],
      "execution_count": null,
      "outputs": [
        {
          "output_type": "stream",
          "text": [
            "Collecting Arabic-Stopwords\n",
            "\u001b[?25l  Downloading https://files.pythonhosted.org/packages/7c/9e/40ee9b10f98b23b32bb7ca3f229ae78ae4379ebcb03cbb7b9e7399686ad8/Arabic_Stopwords-0.3-py3-none-any.whl (353kB)\n",
            "\u001b[K     |████████████████████████████████| 358kB 8.5MB/s \n",
            "\u001b[?25hCollecting pyarabic>=0.6.2\n",
            "\u001b[?25l  Downloading https://files.pythonhosted.org/packages/7b/e2/46728ec2f6fe14970de5c782346609f0636262c0941228f363710903aaa1/PyArabic-0.6.10.tar.gz (108kB)\n",
            "\u001b[K     |████████████████████████████████| 112kB 33.0MB/s \n",
            "\u001b[?25hBuilding wheels for collected packages: pyarabic\n",
            "  Building wheel for pyarabic (setup.py) ... \u001b[?25l\u001b[?25hdone\n",
            "  Created wheel for pyarabic: filename=PyArabic-0.6.10-cp37-none-any.whl size=113324 sha256=5394f7e2cbe2d59e362c8b847ea7abdb52926334a652fe194e1740971d38f1b1\n",
            "  Stored in directory: /root/.cache/pip/wheels/10/b8/f5/b7c1a50e6efb83544844f165a9b134afe7292585465e29b61d\n",
            "Successfully built pyarabic\n",
            "Installing collected packages: pyarabic, Arabic-Stopwords\n",
            "Successfully installed Arabic-Stopwords-0.3 pyarabic-0.6.10\n"
          ],
          "name": "stdout"
        }
      ]
    },
    {
      "cell_type": "code",
      "metadata": {
        "id": "Y4WbaM4Rp36a"
      },
      "source": [
        "import arabicstopwords.arabicstopwords as stp\n",
        "import re"
      ],
      "execution_count": null,
      "outputs": []
    },
    {
      "cell_type": "markdown",
      "metadata": {
        "id": "eZhz7tKPq1kz"
      },
      "source": [
        "We will then create a class that contains data and the boolean operators."
      ]
    },
    {
      "cell_type": "code",
      "metadata": {
        "id": "iYFaHzIin1mk"
      },
      "source": [
        "\n",
        "class BooleanModel:\n",
        "\n",
        "    D1 = \"هذا هو اليوم الأول من دورة استرجاع المعلومات\"\n",
        "    D2 = \"الدورة باللغة العربية للطلاب العرب\"\n",
        "    D3 = \"اليوم هو 30 مايو 2021\"\n",
        "    D4 = \"نأمل أن تفيد هذه الدورة الطلاب العرب\"\n",
        "    D5 = \"هل أنتم سعداء بهذه التجربة\"\n",
        "    Data = {\"DOC1\": D1,\n",
        "            \"DOC2\": D2, \n",
        "            \"DOC3\": D3, \n",
        "            \"DOC4\": D4,\n",
        "            \"DOC5\": D5}\n",
        " \n",
        "    #Get the set of Arabic stopwords \n",
        "    StopWords = set(stp.stopwords_list())\n",
        "    #Specify the boolean operators that can be used in boolean queries\n",
        "    BooleanOperator = {'AND', 'OR', 'NOT','and','or','not'}\n",
        "    ## list of terms from the Data file collection\n",
        "    Ti=[]\n",
        "    #list of Distinct Terms\n",
        "    ti=[]\n",
        "    #Document collection terms\n",
        "    Di={}\n",
        "    #TermDocumentIncidenceMatrix \n",
        "    TermDocMatrix={}\n"
      ],
      "execution_count": null,
      "outputs": []
    },
    {
      "cell_type": "markdown",
      "metadata": {
        "id": "OVn7RVpCtVvF"
      },
      "source": [
        "We need to implement some helper functions below"
      ]
    },
    {
      "cell_type": "code",
      "metadata": {
        "id": "Yu4ohBCYtGyV"
      },
      "source": [
        "   #removing Stop Words function\n",
        "   def RemoveStopWords(sentence):\n",
        "        terms=[]\n",
        "        for term in sentence.split() : \n",
        "            if term not in BooleanModel.StopWords :\n",
        "                terms.append(term)\n",
        "        return terms\n",
        "\n",
        "  #  #a function to clean the text \n",
        "  #  def clean(text):\n",
        "  #      text = re.sub(r\"[\\.\\,\\#_\\|\\:\\?\\?\\/\\=]\", \" \", text) # remove special characters\n",
        "  #      text = re.sub(r\"\\s+\", \" \", text) # remove extra white space\n",
        "  #      accents = re.compile(r'[\\u064b-\\u0652\\u0640]') # harakaat and tatweel (kashida) to remove\n",
        "  #      arabic_punc= re.compile(r'[\\u0621-\\u063A\\u0641-\\u064A\\d+]+') # Keep only Arabic letters/do not remove number\n",
        "  #      text=' '.join(arabic_punc.findall(accents.sub('',text)))\n",
        "  #      text = text.strip()\n",
        "  #      text= RemoveStopWords(text)\n",
        "  #      return text\n",
        "  \n",
        "\n",
        "   #list of Terms\n",
        "   def Terms(Data):\n",
        "        Terms=[]\n",
        "        for doc in Data:\n",
        "            Terms.append(RemoveStopWords(Data[doc]))\n",
        "        Terms=[item for sublist in Terms for item in sublist]\n",
        "        return Terms\n",
        "\n",
        "   #list of Distinct Terms\n",
        "   def Distinctterms(Terms):\n",
        "        DistinctTerms=[]\n",
        "        for d in Terms :\n",
        "            if d not in DistinctTerms:\n",
        "                DistinctTerms.append(d)\n",
        "        return DistinctTerms\n",
        "\n",
        "   #Document collection terms\n",
        "   def DocumentCollection(Data):\n",
        "        DocCollect={}\n",
        "        for doc in Data:\n",
        "            if doc not in BooleanModel.BooleanOperator :\n",
        "                DocCollect[doc]=Distinctterms(RemoveStopWords(Data[doc]))\n",
        "        return DocCollect \n",
        "           \n",
        "   def displayDict(D):\n",
        "        print(\"\\n\")\n",
        "        for i in D:\n",
        "            print (i , \" : \" ,D[i])\n",
        "        print(\"\\n\")"
      ],
      "execution_count": null,
      "outputs": []
    },
    {
      "cell_type": "markdown",
      "metadata": {
        "id": "ndVd0b8zsod6"
      },
      "source": [
        "Let's check what we can do with the class we created"
      ]
    },
    {
      "cell_type": "code",
      "metadata": {
        "colab": {
          "base_uri": "https://localhost:8080/"
        },
        "id": "sbpjJdENsvFz",
        "outputId": "69272122-1ee3-48eb-d0d9-df29518491e1"
      },
      "source": [
        "print(\"### Data files content ###\")\n",
        "displayDict(BooleanModel.Data)\n",
        "BooleanModel.Ti= Terms(BooleanModel.Data)\n",
        "print (\"\\n### Terms in 5 docs ###\\n\" , *BooleanModel.Ti ,sep= \" | \")\n",
        "#ti\n",
        "BooleanModel.ti = Distinctterms(BooleanModel.Ti)\n",
        "print (\"\\n### Distinct Terms in 5 DOCs###\\n\", *BooleanModel.ti ,sep=\" | \")\n",
        "#Di\n",
        "BooleanModel.Di= DocumentCollection(BooleanModel.Data)\n",
        "print (\"\\n###Document terms Collection ###\" )\n",
        "displayDict(BooleanModel.Di)"
      ],
      "execution_count": null,
      "outputs": [
        {
          "output_type": "stream",
          "text": [
            "### Data files content ###\n",
            "\n",
            "\n",
            "DOC1  :  هذا هو اليوم الأول من دورة استرجاع المعلومات\n",
            "DOC2  :  الدورة باللغة العربية للطلاب العرب\n",
            "DOC3  :  اليوم هو 30 مايو 2021\n",
            "DOC4  :  نأمل أن تفيد هذه الدورة الطلاب العرب\n",
            "DOC5  :  هل أنتم سعداء بهذه التجربة\n",
            "\n",
            "\n",
            "\n",
            "### Terms in 5 docs ###\n",
            " | اليوم | الأول | دورة | استرجاع | المعلومات | الدورة | باللغة | العربية | للطلاب | العرب | اليوم | 30 | مايو | 2021 | نأمل | تفيد | الدورة | الطلاب | العرب | سعداء | التجربة\n",
            "\n",
            "### Distinct Terms in 5 DOCs###\n",
            " | اليوم | الأول | دورة | استرجاع | المعلومات | الدورة | باللغة | العربية | للطلاب | العرب | 30 | مايو | 2021 | نأمل | تفيد | الطلاب | سعداء | التجربة\n",
            "\n",
            "###Document terms Collection ###\n",
            "\n",
            "\n",
            "DOC1  :  ['اليوم', 'الأول', 'دورة', 'استرجاع', 'المعلومات']\n",
            "DOC2  :  ['الدورة', 'باللغة', 'العربية', 'للطلاب', 'العرب']\n",
            "DOC3  :  ['اليوم', '30', 'مايو', '2021']\n",
            "DOC4  :  ['نأمل', 'تفيد', 'الدورة', 'الطلاب', 'العرب']\n",
            "DOC5  :  ['سعداء', 'التجربة']\n",
            "\n",
            "\n"
          ],
          "name": "stdout"
        }
      ]
    },
    {
      "cell_type": "markdown",
      "metadata": {
        "id": "zv6k6deZtS22"
      },
      "source": [
        "Next, we will implement a fucntion to build a term-incidence matrix"
      ]
    },
    {
      "cell_type": "code",
      "metadata": {
        "id": "9_LbD5y0tv-L"
      },
      "source": [
        "def TermDocumentIncidenceMatrix(DocumentTermsCollection ,DistinctTerms):\n",
        "\n",
        "        TermDocMatrix={}\n",
        "        for term in DistinctTerms:\n",
        "            Vector=[]\n",
        "            for c in DocumentTermsCollection:\n",
        "\n",
        "                if term in DocumentTermsCollection[c]:\n",
        "                    Vector.append(1)\n",
        "                else :\n",
        "                    Vector.append(0)\n",
        "\n",
        "            TermDocMatrix[term]=Vector\n",
        "        return TermDocMatrix\n",
        "\n",
        "    \n",
        "def TermIncidenceVector(term):\n",
        "    return BooleanModel.TermDocMatrix[term]"
      ],
      "execution_count": null,
      "outputs": []
    },
    {
      "cell_type": "markdown",
      "metadata": {
        "id": "EDnRoqYtuK9Z"
      },
      "source": [
        "Let's build the term-document incidence matrix"
      ]
    },
    {
      "cell_type": "code",
      "metadata": {
        "colab": {
          "base_uri": "https://localhost:8080/"
        },
        "id": "V17xFC5LuNR8",
        "outputId": "207f6a30-d5b5-4c99-eaec-1edfa808364e"
      },
      "source": [
        "#build the term-document incidence matrix\n",
        "BooleanModel.TermDocMatrix=TermDocumentIncidenceMatrix(BooleanModel.Di,BooleanModel.ti)\n",
        "print(\"Term-Document incidence Matrix\\n\")\n",
        "#formatted Display \n",
        "displayDict(BooleanModel.TermDocMatrix)\n"
      ],
      "execution_count": null,
      "outputs": [
        {
          "output_type": "stream",
          "text": [
            "Term-Document incidence Matrix\n",
            "\n",
            "\n",
            "\n",
            "اليوم  :  [1, 0, 1, 0, 0]\n",
            "الأول  :  [1, 0, 0, 0, 0]\n",
            "دورة  :  [1, 0, 0, 0, 0]\n",
            "استرجاع  :  [1, 0, 0, 0, 0]\n",
            "المعلومات  :  [1, 0, 0, 0, 0]\n",
            "الدورة  :  [0, 1, 0, 1, 0]\n",
            "باللغة  :  [0, 1, 0, 0, 0]\n",
            "العربية  :  [0, 1, 0, 0, 0]\n",
            "للطلاب  :  [0, 1, 0, 0, 0]\n",
            "العرب  :  [0, 1, 0, 1, 0]\n",
            "30  :  [0, 0, 1, 0, 0]\n",
            "مايو  :  [0, 0, 1, 0, 0]\n",
            "2021  :  [0, 0, 1, 0, 0]\n",
            "نأمل  :  [0, 0, 0, 1, 0]\n",
            "تفيد  :  [0, 0, 0, 1, 0]\n",
            "الطلاب  :  [0, 0, 0, 1, 0]\n",
            "سعداء  :  [0, 0, 0, 0, 1]\n",
            "التجربة  :  [0, 0, 0, 0, 1]\n",
            "\n",
            "\n"
          ],
          "name": "stdout"
        }
      ]
    },
    {
      "cell_type": "markdown",
      "metadata": {
        "id": "Fb5jqkY-YcTh"
      },
      "source": [
        "Let's check the term incidence vector for the word العرب"
      ]
    },
    {
      "cell_type": "code",
      "metadata": {
        "id": "qxwTzQSvYgkT",
        "colab": {
          "base_uri": "https://localhost:8080/"
        },
        "outputId": "f495ad23-4e9e-4e83-97db-a3b7525a9b7e"
      },
      "source": [
        "print(\"Incidence Vector of 'العرب' \",TermIncidenceVector('العرب'))"
      ],
      "execution_count": null,
      "outputs": [
        {
          "output_type": "stream",
          "text": [
            "Incidence Vector of 'العرب'  [0, 1, 0, 1, 0]\n"
          ],
          "name": "stdout"
        }
      ]
    },
    {
      "cell_type": "markdown",
      "metadata": {
        "id": "7JMwuyDEv9W_"
      },
      "source": [
        "### **Buidling a Boolean retrieval model**"
      ]
    },
    {
      "cell_type": "markdown",
      "metadata": {
        "id": "b20B9e9lZJwu"
      },
      "source": [
        "First, we need to implement our that tokenizes the query to differentiate between the terms and the boolean operators and select only those defined in our booleanModel class previously."
      ]
    },
    {
      "cell_type": "code",
      "metadata": {
        "id": "66jN1KCdwOvI"
      },
      "source": [
        "#Query Filteration\n",
        "#input : Query \n",
        "#output : List of terms of a given query which match with the terms in our datafiles\n",
        "def Queryfilteration(Query):\n",
        "    Qterms=[]\n",
        "    Q=Query.split()\n",
        "    for Qterm in Q:\n",
        "        if Qterm in BooleanModel.ti or Qterm in BooleanModel.BooleanOperator :\n",
        "          Qterms.append(Qterm)\n",
        "    return Qterms"
      ],
      "execution_count": null,
      "outputs": []
    },
    {
      "cell_type": "markdown",
      "metadata": {
        "id": "AC33aTUaxtwH"
      },
      "source": [
        "Let's test our Query filteration function. "
      ]
    },
    {
      "cell_type": "code",
      "metadata": {
        "colab": {
          "base_uri": "https://localhost:8080/"
        },
        "id": "5TldFFUxwa4H",
        "outputId": "39d83bab-f573-40dc-b6a0-a9ae666d6207"
      },
      "source": [
        "Query=\"استرجاع AND المعلومات AND دورة\"\n",
        "Qterms=Queryfilteration(Query)\n",
        "print(Qterms)"
      ],
      "execution_count": null,
      "outputs": [
        {
          "output_type": "stream",
          "text": [
            "['استرجاع', 'AND', 'المعلومات', 'AND', 'دورة']\n"
          ],
          "name": "stdout"
        }
      ]
    },
    {
      "cell_type": "code",
      "metadata": {
        "id": "wRTGFSxNxsWw"
      },
      "source": [
        "# Boolean Operator Processing \n",
        "# input : Boolean Operator ,Next term Incedence Vector ,Previous term Incedence Vector \n",
        "# output : \n",
        "def BooleanOperatorProcessing(BoolOperator,PrevV,NextV):\n",
        "    result=[]\n",
        "    if BoolOperator == \"AND\":\n",
        "      for a , b in zip(NextV,PrevV) :\n",
        "          if a==1 and b==1 :\n",
        "            result.append(1)\n",
        "          else :\n",
        "            result.append(0)\n",
        "    elif BoolOperator==\"OR\" :\n",
        "         for a,b in zip(NextV,PrevV) :\n",
        "            if a==0 and b==0 :\n",
        "               result.append(0)\n",
        "            else :\n",
        "                    result.append(1)\n",
        "    elif BoolOperator == \"NOT\":\n",
        "         for b in PrevV :\n",
        "             if b == 1 :\n",
        "                result.append(0)\n",
        "             else :\n",
        "                result.append(1)\n",
        "    return result"
      ],
      "execution_count": null,
      "outputs": []
    },
    {
      "cell_type": "markdown",
      "metadata": {
        "id": "pqhGtHJAwD1v"
      },
      "source": [
        "Let's test our BooleanOperatorProcessing function"
      ]
    },
    {
      "cell_type": "code",
      "metadata": {
        "colab": {
          "base_uri": "https://localhost:8080/"
        },
        "id": "wy7wp6s6yiCx",
        "outputId": "3f1e8c72-e5ec-4b88-9df4-b7ddf8c9587b"
      },
      "source": [
        "v1=[0,1,0,1]\n",
        "v2=[0,0,1,1]\n",
        "v3=[]\n",
        "print(BooleanOperatorProcessing(\"AND\",v1,v2))\n",
        "print(BooleanOperatorProcessing(\"OR\",v1,v2))\n",
        "print(BooleanOperatorProcessing(\"NOT\",v1,v3))"
      ],
      "execution_count": null,
      "outputs": [
        {
          "output_type": "stream",
          "text": [
            "[0, 0, 0, 1]\n",
            "[0, 1, 1, 1]\n",
            "[1, 0, 1, 0]\n"
          ],
          "name": "stdout"
        }
      ]
    },
    {
      "cell_type": "code",
      "metadata": {
        "id": "0m9Z6b5myw5Y"
      },
      "source": [
        "# Boolean retrieval fuction\n",
        "# input : Query \n",
        "# output : if Document is relevant > 1 else >0\n",
        "def BooleanRetrieval(Query):\n",
        "        Bitwiseop=\"\"\n",
        "        QTterms=Queryfilteration(Query)\n",
        "        result=[]\n",
        "        resultSet={}\n",
        "        hasPreviousterm=False\n",
        "        hasntOperation=False\n",
        "        IncVicPreAnd=[]\n",
        "        IncVicNexAnd=[]\n",
        "        for term in QTterms :\n",
        "            if term not in BooleanModel.BooleanOperator:\n",
        "                if hasntOperation:\n",
        "                    if hasPreviousterm:\n",
        "                        IncVicNexAnd=BooleanOperatorProcessing(\"NOT\",TermIncidenceVector(term),IncVicNexAnd)\n",
        "                    else :\n",
        "                        IncVicPreAnd=BooleanOperatorProcessing(\"NOT\",TermIncidenceVector(term),IncVicNexAnd)\n",
        "                        result=IncVicPreAnd\n",
        "                    hasntOperation=False\n",
        "                    \n",
        "                elif  hasPreviousterm :\n",
        "                    \n",
        "                    IncVicNexAnd=TermIncidenceVector(term)\n",
        "                else :\n",
        "                    \n",
        "                    IncVicPreAnd=TermIncidenceVector(term)\n",
        "                    result=IncVicPreAnd\n",
        "                    hasPreviousterm=True    \n",
        "            \n",
        "            elif term ==\"NOT\":\n",
        "                hasntOperation=True\n",
        "            \n",
        "            else :\n",
        "                Bitwiseop=term\n",
        "                \n",
        "            if  len(IncVicNexAnd)!= 0  :\n",
        "                result = BooleanOperatorProcessing(Bitwiseop,IncVicPreAnd,IncVicNexAnd)\n",
        "                IncVicPreAnd=result\n",
        "                hasPreviousterm=True\n",
        "                IncVicNexAnd= []\n",
        "    \n",
        "        for i,doc in zip(result,BooleanModel.Data):\n",
        "            resultSet[doc]=i\n",
        "        return resultSet"
      ],
      "execution_count": null,
      "outputs": []
    },
    {
      "cell_type": "markdown",
      "metadata": {
        "id": "u4oP9tpnzMCK"
      },
      "source": [
        "Let's use our boolean retrieval model "
      ]
    },
    {
      "cell_type": "code",
      "metadata": {
        "colab": {
          "base_uri": "https://localhost:8080/"
        },
        "id": "X8bAnUeHzRh_",
        "outputId": "700bc42b-9d7a-4766-d5a6-55e4930a1def"
      },
      "source": [
        "Query1 = \"العرب AND NOT المعلومات\"\n",
        "Query2 = \"استرجاع AND المعلومات AND NOT العربية\"\n",
        "Query3 = \"استرجاع OR الدورة OR سعداء\"\n",
        "print(\"Query1 boolean retrieval result \",BooleanRetrieval(Query1))\n",
        "print(\"Query2 boolean retrieval \",BooleanRetrieval(Query2))\n",
        "print(\"Query3 boolean retrieval \",BooleanRetrieval(Query3))"
      ],
      "execution_count": null,
      "outputs": [
        {
          "output_type": "stream",
          "text": [
            "Query1 boolean retrieval result  {'DOC1': 0, 'DOC2': 1, 'DOC3': 0, 'DOC4': 1, 'DOC5': 0}\n",
            "Query2 boolean retrieval  {'DOC1': 1, 'DOC2': 0, 'DOC3': 0, 'DOC4': 0, 'DOC5': 0}\n",
            "Query3 boolean retrieval  {'DOC1': 1, 'DOC2': 1, 'DOC3': 0, 'DOC4': 1, 'DOC5': 1}\n"
          ],
          "name": "stdout"
        }
      ]
    },
    {
      "cell_type": "markdown",
      "metadata": {
        "id": "2FVdZjX5vHMg"
      },
      "source": [
        "### **Exercise1**"
      ]
    },
    {
      "cell_type": "markdown",
      "metadata": {
        "id": "Y4JSjI_KTvpl"
      },
      "source": [
        "Find the documents that contains the word **سعداء** or **الدورة** but does not contain \n",
        "the word **العرب**"
      ]
    },
    {
      "cell_type": "code",
      "metadata": {
        "colab": {
          "base_uri": "https://localhost:8080/"
        },
        "id": "8SLmj6RAoKgU",
        "outputId": "c79fd50e-f794-467b-e8ab-2c04fa9f0030"
      },
      "source": [
        "Query = \"سعداء OR الدورة AND NOT العرب\"\n",
        "print(\"Query boolean retrieval \",BooleanRetrieval(Query))\n"
      ],
      "execution_count": null,
      "outputs": [
        {
          "output_type": "stream",
          "text": [
            "Query boolean retrieval  {'DOC1': 0, 'DOC2': 0, 'DOC3': 0, 'DOC4': 0, 'DOC5': 1}\n"
          ],
          "name": "stdout"
        }
      ]
    },
    {
      "cell_type": "code",
      "metadata": {
        "colab": {
          "base_uri": "https://localhost:8080/"
        },
        "id": "BptWF7Vfr_CY",
        "outputId": "7e19974d-d335-45ab-ab89-b1d1360ba9cc"
      },
      "source": [
        "Query = \"التجربة OR الدورة OR اليوم\"\n",
        "print(\"Query boolean retrieval\",BooleanRetrieval(Query))"
      ],
      "execution_count": null,
      "outputs": [
        {
          "output_type": "stream",
          "text": [
            "Query boolean retrieval {'DOC1': 1, 'DOC2': 1, 'DOC3': 1, 'DOC4': 1, 'DOC5': 1}\n"
          ],
          "name": "stdout"
        }
      ]
    },
    {
      "cell_type": "markdown",
      "metadata": {
        "id": "DElk2mxEvOoE"
      },
      "source": [
        "### **Exercise2**\n",
        "Using the sentences given below create your documents, and create three different queries similar to the ones introduced during the lab. Retrieve the results of your queries.\n",
        "\n",
        "\n",
        "1. قضينا في الخليل ستة أشهر ثم بدأ أهل البلد يتوزعون منهم من أراد اللحاق بأقرباء له في طولكرم أو نابلس أو جنين و منهم من تسلل عائدا الى الجليل و منهم من ذهب الى سوريا\n",
        "2.   سيذهلني أن مريم و هي تسترجع ما جرى و تنقله الى أخيها تذكر تفاصيل الحوار \n",
        "بالنقطة و الفاصلة\n",
        "3. نعم زرت بيروت زرتها بعد خمس سنين من الغياب\n",
        "4.وعدتك يا حسن أن أتم هذا الكتاب و لكنني حين وصلت الى هذا الجزء من الحكاية   تيقنت أنني لن أستطيع\n",
        "5. حكت لي ممرضة من سكان شاتيلا أنها ذهبت الى مستشفى عكا يوم السبت بعد رحيل \n",
        "القوات من المنطقة\n",
        "\n",
        "**ملحوظة:** الجمل مقتبسة من رواية الطنطورية لرضوى عاشور\n"
      ]
    },
    {
      "cell_type": "code",
      "metadata": {
        "id": "-lAyRuljT-qd"
      },
      "source": [
        "class BooleanModel:\n",
        "\n",
        "    D1 = \"قضينا في الخليل ستة أشهر ثم بدأ أهل البلد يتوزعون منهم من أراد اللحاق بأقرباء له في طولكرم أو نابلس أو جنين و منهم من تسلل عائدا الى الجليل، و منهم من ذهب الى سوريا\"\n",
        "    D2 = \"سيذهلني أن مريم و هي تسترجع ما جرى و تنقله الى أخيها تذكر تفاصيل الحوار بالنقطة و الفاصلة\"\n",
        "    D3 = \"نعم زرت بيروت زرتها بعد خمس سنين من الغياب\"\n",
        "    D4 = \"وعدتك يا حسن أن أتم هذا الكتاب و لكنني حين وصلت الى هذا الجزء من الحكاية تيقنت أنني لن أستطيع\"\n",
        "    D5 = \"حكت لي ممرضة من سكان شاتيلا أنها ذهبت الى مستشفى عكا يوم السبت بعد رحيل القوات من المنطقة\"\n",
        "    Data = {\"DOC1\": D1,\n",
        "            \"DOC2\": D2, \n",
        "            \"DOC3\": D3, \n",
        "            \"DOC4\": D4,\n",
        "            \"DOC5\": D5}\n",
        " \n",
        "    #Get the set of Arabic stopwords \n",
        "    StopWords = set(stp.stopwords_list())\n",
        "    #Specify the boolean operators that can be used in boolean queries\n",
        "    BooleanOperator = {'AND', 'OR', 'NOT','and','or','not'}\n",
        "    ## list of terms from the Data file collection\n",
        "    Ti=[]\n",
        "    #list of Distinct Terms\n",
        "    ti=[]\n",
        "    #Document collection terms\n",
        "    Di={}\n",
        "    #TermDocumentIncidenceMatrix \n",
        "    TermDocMatrix={}"
      ],
      "execution_count": null,
      "outputs": []
    },
    {
      "cell_type": "code",
      "metadata": {
        "colab": {
          "base_uri": "https://localhost:8080/"
        },
        "id": "FiV__tRJkrWh",
        "outputId": "0e0353dd-8384-445c-a064-62464bc7d5dc"
      },
      "source": [
        "print(\"### Data files content ###\")\n",
        "displayDict(BooleanModel.Data)\n",
        "BooleanModel.Ti= Terms(BooleanModel.Data)\n",
        "print (\"\\n### Terms in 5 docs ###\\n\" , *BooleanModel.Ti ,sep= \" | \")\n",
        "#ti\n",
        "BooleanModel.ti = Distinctterms(BooleanModel.Ti)\n",
        "print (\"\\n### Distinct Terms in 5 DOCs###\\n\", *BooleanModel.ti ,sep=\" | \")\n",
        "#Di\n",
        "BooleanModel.Di= DocumentCollection(BooleanModel.Data)\n",
        "print (\"\\n###Document terms Collection ###\" )\n",
        "displayDict(BooleanModel.Di)\n",
        "#build Term-Document incidence Matrix\n",
        "print(\"Term-Document incidence Matrix\\n\")\n",
        "#build the term-document incidence matrix\n",
        "BooleanModel.TermDocMatrix=TermDocumentIncidenceMatrix(BooleanModel.Di,BooleanModel.ti)\n",
        "#formatted display of the term-document incidence matrix\n",
        "displayDict(BooleanModel.TermDocMatrix)"
      ],
      "execution_count": null,
      "outputs": [
        {
          "output_type": "stream",
          "text": [
            "### Data files content ###\n",
            "\n",
            "\n",
            "DOC1  :  قضينا في الخليل ستة أشهر ثم بدأ أهل البلد يتوزعون منهم من أراد اللحاق بأقرباء له في طولكرم أو نابلس أو جنين و منهم من تسلل عائدا الى الجليل، و منهم من ذهب الى سوريا\n",
            "DOC2  :  سيذهلني أن مريم و هي تسترجع ما جرى و تنقله الى أخيها تذكر تفاصيل الحوار بالنقطة و الفاصلة\n",
            "DOC3  :  نعم زرت بيروت زرتها بعد خمس سنين من الغياب\n",
            "DOC4  :  وعدتك يا حسن أن أتم هذا الكتاب و لكنني حين وصلت الى هذا الجزء من الحكاية تيقنت أنني لن أستطيع\n",
            "DOC5  :  حكت لي ممرضة من سكان شاتيلا أنها ذهبت الى مستشفى عكا يوم السبت بعد رحيل القوات من المنطقة\n",
            "\n",
            "\n",
            "\n",
            "### Terms in 5 docs ###\n",
            " | قضينا | الخليل | ستة | أشهر | بدأ | أهل | البلد | يتوزعون | أراد | اللحاق | بأقرباء | طولكرم | نابلس | جنين | تسلل | عائدا | الى | الجليل، | ذهب | الى | سوريا | سيذهلني | مريم | تسترجع | جرى | تنقله | الى | تذكر | تفاصيل | الحوار | بالنقطة | الفاصلة | زرت | بيروت | زرتها | خمس | سنين | الغياب | وعدتك | يا | حسن | أتم | الكتاب | لكنني | وصلت | الى | الجزء | الحكاية | تيقنت | أنني | أستطيع | حكت | ممرضة | سكان | شاتيلا | ذهبت | الى | مستشفى | عكا | يوم | السبت | رحيل | القوات | المنطقة\n",
            "\n",
            "### Distinct Terms in 5 DOCs###\n",
            " | قضينا | الخليل | ستة | أشهر | بدأ | أهل | البلد | يتوزعون | أراد | اللحاق | بأقرباء | طولكرم | نابلس | جنين | تسلل | عائدا | الى | الجليل، | ذهب | سوريا | سيذهلني | مريم | تسترجع | جرى | تنقله | تذكر | تفاصيل | الحوار | بالنقطة | الفاصلة | زرت | بيروت | زرتها | خمس | سنين | الغياب | وعدتك | يا | حسن | أتم | الكتاب | لكنني | وصلت | الجزء | الحكاية | تيقنت | أنني | أستطيع | حكت | ممرضة | سكان | شاتيلا | ذهبت | مستشفى | عكا | يوم | السبت | رحيل | القوات | المنطقة\n",
            "\n",
            "###Document terms Collection ###\n",
            "\n",
            "\n",
            "DOC1  :  ['قضينا', 'الخليل', 'ستة', 'أشهر', 'بدأ', 'أهل', 'البلد', 'يتوزعون', 'أراد', 'اللحاق', 'بأقرباء', 'طولكرم', 'نابلس', 'جنين', 'تسلل', 'عائدا', 'الى', 'الجليل،', 'ذهب', 'سوريا']\n",
            "DOC2  :  ['سيذهلني', 'مريم', 'تسترجع', 'جرى', 'تنقله', 'الى', 'تذكر', 'تفاصيل', 'الحوار', 'بالنقطة', 'الفاصلة']\n",
            "DOC3  :  ['زرت', 'بيروت', 'زرتها', 'خمس', 'سنين', 'الغياب']\n",
            "DOC4  :  ['وعدتك', 'يا', 'حسن', 'أتم', 'الكتاب', 'لكنني', 'وصلت', 'الى', 'الجزء', 'الحكاية', 'تيقنت', 'أنني', 'أستطيع']\n",
            "DOC5  :  ['حكت', 'ممرضة', 'سكان', 'شاتيلا', 'ذهبت', 'الى', 'مستشفى', 'عكا', 'يوم', 'السبت', 'رحيل', 'القوات', 'المنطقة']\n",
            "\n",
            "\n",
            "Term-Document incidence Matrix\n",
            "\n",
            "\n",
            "\n",
            "قضينا  :  [1, 0, 0, 0, 0]\n",
            "الخليل  :  [1, 0, 0, 0, 0]\n",
            "ستة  :  [1, 0, 0, 0, 0]\n",
            "أشهر  :  [1, 0, 0, 0, 0]\n",
            "بدأ  :  [1, 0, 0, 0, 0]\n",
            "أهل  :  [1, 0, 0, 0, 0]\n",
            "البلد  :  [1, 0, 0, 0, 0]\n",
            "يتوزعون  :  [1, 0, 0, 0, 0]\n",
            "أراد  :  [1, 0, 0, 0, 0]\n",
            "اللحاق  :  [1, 0, 0, 0, 0]\n",
            "بأقرباء  :  [1, 0, 0, 0, 0]\n",
            "طولكرم  :  [1, 0, 0, 0, 0]\n",
            "نابلس  :  [1, 0, 0, 0, 0]\n",
            "جنين  :  [1, 0, 0, 0, 0]\n",
            "تسلل  :  [1, 0, 0, 0, 0]\n",
            "عائدا  :  [1, 0, 0, 0, 0]\n",
            "الى  :  [1, 1, 0, 1, 1]\n",
            "الجليل،  :  [1, 0, 0, 0, 0]\n",
            "ذهب  :  [1, 0, 0, 0, 0]\n",
            "سوريا  :  [1, 0, 0, 0, 0]\n",
            "سيذهلني  :  [0, 1, 0, 0, 0]\n",
            "مريم  :  [0, 1, 0, 0, 0]\n",
            "تسترجع  :  [0, 1, 0, 0, 0]\n",
            "جرى  :  [0, 1, 0, 0, 0]\n",
            "تنقله  :  [0, 1, 0, 0, 0]\n",
            "تذكر  :  [0, 1, 0, 0, 0]\n",
            "تفاصيل  :  [0, 1, 0, 0, 0]\n",
            "الحوار  :  [0, 1, 0, 0, 0]\n",
            "بالنقطة  :  [0, 1, 0, 0, 0]\n",
            "الفاصلة  :  [0, 1, 0, 0, 0]\n",
            "زرت  :  [0, 0, 1, 0, 0]\n",
            "بيروت  :  [0, 0, 1, 0, 0]\n",
            "زرتها  :  [0, 0, 1, 0, 0]\n",
            "خمس  :  [0, 0, 1, 0, 0]\n",
            "سنين  :  [0, 0, 1, 0, 0]\n",
            "الغياب  :  [0, 0, 1, 0, 0]\n",
            "وعدتك  :  [0, 0, 0, 1, 0]\n",
            "يا  :  [0, 0, 0, 1, 0]\n",
            "حسن  :  [0, 0, 0, 1, 0]\n",
            "أتم  :  [0, 0, 0, 1, 0]\n",
            "الكتاب  :  [0, 0, 0, 1, 0]\n",
            "لكنني  :  [0, 0, 0, 1, 0]\n",
            "وصلت  :  [0, 0, 0, 1, 0]\n",
            "الجزء  :  [0, 0, 0, 1, 0]\n",
            "الحكاية  :  [0, 0, 0, 1, 0]\n",
            "تيقنت  :  [0, 0, 0, 1, 0]\n",
            "أنني  :  [0, 0, 0, 1, 0]\n",
            "أستطيع  :  [0, 0, 0, 1, 0]\n",
            "حكت  :  [0, 0, 0, 0, 1]\n",
            "ممرضة  :  [0, 0, 0, 0, 1]\n",
            "سكان  :  [0, 0, 0, 0, 1]\n",
            "شاتيلا  :  [0, 0, 0, 0, 1]\n",
            "ذهبت  :  [0, 0, 0, 0, 1]\n",
            "مستشفى  :  [0, 0, 0, 0, 1]\n",
            "عكا  :  [0, 0, 0, 0, 1]\n",
            "يوم  :  [0, 0, 0, 0, 1]\n",
            "السبت  :  [0, 0, 0, 0, 1]\n",
            "رحيل  :  [0, 0, 0, 0, 1]\n",
            "القوات  :  [0, 0, 0, 0, 1]\n",
            "المنطقة  :  [0, 0, 0, 0, 1]\n",
            "\n",
            "\n"
          ],
          "name": "stdout"
        }
      ]
    },
    {
      "cell_type": "code",
      "metadata": {
        "colab": {
          "base_uri": "https://localhost:8080/"
        },
        "id": "zi6-gunsjDEb",
        "outputId": "46b890aa-6907-4e68-89d7-b2a36af6d123"
      },
      "source": [
        "Query1 = \"حسن AND NOT مريم\"\n",
        "Query2 = \"الكتاب AND الحكاية AND NOT الغياب\"\n",
        "Query3 = \"سوريا OR بيروت\"\n",
        "print(\"Query1 boolean retrieval result \",BooleanRetrieval(Query1))\n",
        "print(\"Query2 boolean retrieval result\",BooleanRetrieval(Query2))\n",
        "print(\"Query3 boolean retrieval result\",BooleanRetrieval(Query3))"
      ],
      "execution_count": null,
      "outputs": [
        {
          "output_type": "stream",
          "text": [
            "Query1 boolean retrieval result  {'DOC1': 0, 'DOC2': 0, 'DOC3': 0, 'DOC4': 1, 'DOC5': 0}\n",
            "Query2 boolean retrieval result {'DOC1': 0, 'DOC2': 0, 'DOC3': 0, 'DOC4': 1, 'DOC5': 0}\n",
            "Query3 boolean retrieval result {'DOC1': 1, 'DOC2': 0, 'DOC3': 1, 'DOC4': 0, 'DOC5': 0}\n"
          ],
          "name": "stdout"
        }
      ]
    },
    {
      "cell_type": "markdown",
      "metadata": {
        "id": "71_fMCB2FXIG"
      },
      "source": [
        "### **References**\n",
        "\n",
        "\n",
        "*   [Information retrieval models.](https://github.com/YoucefBYu/Information-Retrieval-Models)\n",
        "\n"
      ]
    }
  ]
}