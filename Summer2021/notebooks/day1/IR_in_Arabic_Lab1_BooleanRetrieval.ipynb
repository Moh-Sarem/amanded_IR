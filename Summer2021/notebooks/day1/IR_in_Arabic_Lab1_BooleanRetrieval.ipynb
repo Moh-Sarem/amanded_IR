{
  "nbformat": 4,
  "nbformat_minor": 0,
  "metadata": {
    "colab": {
      "name": "IR-in-Arabic_Lab1-BooleanRetrieval.ipynb",
      "provenance": [],
      "collapsed_sections": [],
      "include_colab_link": true
    },
    "kernelspec": {
      "name": "python3",
      "display_name": "Python 3"
    },
    "language_info": {
      "name": "python"
    }
  },
  "cells": [
    {
      "cell_type": "markdown",
      "metadata": {
        "id": "view-in-github",
        "colab_type": "text"
      },
      "source": [
        "<a href=\"https://colab.research.google.com/github/telsayed/IR-in-Arabic/blob/master/Summer2021/notebooks/day1/IR_in_Arabic_Lab1_BooleanRetrieval.ipynb\" target=\"_parent\"><img src=\"https://colab.research.google.com/assets/colab-badge.svg\" alt=\"Open In Colab\"/></a>"
      ]
    },
    {
      "cell_type": "markdown",
      "metadata": {
        "id": "5ZzUxXUVMVVU"
      },
      "source": [
        "\n",
        "\n",
        "# **IR in Arabic** - Summer 2021 lab day1\n"
      ]
    },
    {
      "cell_type": "markdown",
      "metadata": {
        "id": "2kjTczIiMctt"
      },
      "source": [
        "This is one of a series of Colab notebooks created for the **IR in Arabic** course. It demonstrates how can we build a Term-Document incidence matrix and a boolean retrieval model.\n",
        "\n",
        "The **learning outcomes** of the this notebook are:\n",
        "\n",
        "\n",
        "*   What is Colab and how can we run our code?\n",
        "*   Build a Term-Document incidence Matrix and visualize it.\n",
        "*   Build a boolean retrieval model that can answer boolean queries.\n",
        "\n"
      ]
    },
    {
      "cell_type": "markdown",
      "metadata": {
        "id": "So4LG0fB1HKb"
      },
      "source": [
        "# What is colab?\n",
        "\n",
        "**[Colaboratory](https://research.google.com/colaboratory/faq.html)**, or “Colab” for short, is a product from Google Research. Colab allows anybody to write and execute arbitrary python code through the browser, and is especially well suited to machine learning, data analysis and education. More technically, Colab is a hosted Jupyter notebook service that requires no setup to use, while providing free access to computing resources including GPUs.\n",
        "\n",
        "# How can you have your own copy of this lab?\n",
        "\n",
        "You have to make a copy of this notebook by clicking [![Open In Colab](https://colab.research.google.com/assets/colab-badge.svg)](), then go to **File->Save a copy in Drive**. This will create your version of this lab saved in your Google Drive."
      ]
    },
    {
      "cell_type": "markdown",
      "metadata": {
        "id": "7D1aDfiaAZ8Z"
      },
      "source": [
        "### **Running a simple code on colab.**"
      ]
    },
    {
      "cell_type": "code",
      "metadata": {
        "id": "_NP26TwQwYJ-"
      },
      "source": [
        "print(\"مرحبا بكم في دورة استرجاع المعلومات\")"
      ],
      "execution_count": null,
      "outputs": []
    },
    {
      "cell_type": "markdown",
      "metadata": {
        "id": "1-RDU75PA45P"
      },
      "source": [
        "### **Build a Term-Document incidence Matrix and visualize it.**"
      ]
    },
    {
      "cell_type": "markdown",
      "metadata": {
        "id": "X-gYOgFTb1u1"
      },
      "source": [
        "Let's create a set of textual documents."
      ]
    },
    {
      "cell_type": "code",
      "metadata": {
        "id": "YGPQ5cgYb85k"
      },
      "source": [
        " d1 = \"هذا هو اليوم الأول من دورة استرجاع المعلومات\"\n",
        " d2 = \"الدورة باللغة العربية للطلاب العرب\"\n",
        " d3 = \"اليوم هو 30 مايو 2021\"\n",
        " d4 = \"نأمل أن تفيد هذه الدورة الطلاب العرب\"\n",
        " d5 = \"هل أنتم سعداء بهذه التجربة\"\n",
        " data = {\"doc1\": d1,\n",
        "         \"doc2\": d2, \n",
        "         \"doc3\": d3, \n",
        "         \"doc4\": d4,\n",
        "         \"doc5\": d5}\n",
        "data"
      ],
      "execution_count": null,
      "outputs": []
    },
    {
      "cell_type": "markdown",
      "metadata": {
        "id": "0AUB6J3MBct_"
      },
      "source": [
        "Let's define our boolean operators."
      ]
    },
    {
      "cell_type": "code",
      "metadata": {
        "id": "zMRqaPgoSyIc"
      },
      "source": [
        "boolean_operators = {'AND', 'OR', 'NOT'}"
      ],
      "execution_count": null,
      "outputs": []
    },
    {
      "cell_type": "markdown",
      "metadata": {
        "id": "OVn7RVpCtVvF"
      },
      "source": [
        "We need to implement some helper functions below"
      ]
    },
    {
      "cell_type": "code",
      "metadata": {
        "id": "Yu4ohBCYtGyV"
      },
      "source": [
        "  #list of terms\n",
        "  def get_terms(data):\n",
        "        terms=[]\n",
        "        for doc in data:\n",
        "            for term in data[doc].split() :\n",
        "                terms.append(term)\n",
        "        return terms\n",
        "\n",
        "   #list of unique terms\n",
        "  def get_unique_terms(terms):\n",
        "        unique_terms=[]\n",
        "        for d in terms :\n",
        "            if d not in unique_terms:\n",
        "               unique_terms.append(d)\n",
        "        return unique_terms\n",
        "\n",
        "  #document collection terms\n",
        "  def get_document_collection_terms(data):\n",
        "        docs_colllection={}\n",
        "        for doc in data:\n",
        "            if doc not in boolean_operators :\n",
        "                docs_colllection[doc]=get_unique_terms(data[doc].split())\n",
        "        return docs_colllection\n",
        "           \n",
        "  def display_dict(dic):\n",
        "        print(\"\\n\")\n",
        "        for i in dic:\n",
        "            print (i , \" : \" ,dic[i])\n",
        "        print(\"\\n\")"
      ],
      "execution_count": null,
      "outputs": []
    },
    {
      "cell_type": "markdown",
      "metadata": {
        "id": "mA70vcg6DAWR"
      },
      "source": [
        "We need to define some local variables."
      ]
    },
    {
      "cell_type": "code",
      "metadata": {
        "id": "fNNyEsfsTCwA"
      },
      "source": [
        " ## list of terms from the data file collection\n",
        " terms=[]\n",
        " #list of unique terms\n",
        " unique_terms=[]\n",
        " #Document collection terms\n",
        " docs_terms_dict={}\n",
        " #TermDocumentIncidenceMatrix \n",
        " term_docs_matrix={}"
      ],
      "execution_count": null,
      "outputs": []
    },
    {
      "cell_type": "markdown",
      "metadata": {
        "id": "ndVd0b8zsod6"
      },
      "source": [
        "Let's check the output of our helper functions."
      ]
    },
    {
      "cell_type": "code",
      "metadata": {
        "id": "sbpjJdENsvFz"
      },
      "source": [
        "print(\"### documents content ###\")\n",
        "display_dict(data)\n",
        "terms= get_terms(data)\n",
        "print (\"\\n### Terms in 5 docs ###\\n\" , *terms ,sep= \" | \")\n",
        "#unique_terms\n",
        "unique_terms = get_unique_terms(terms)\n",
        "print (\"\\n### Unique Terms in 5 DOCs###\\n\", *unique_terms ,sep=\" | \")\n",
        "#docs_terms\n",
        "docs_terms_dict= get_document_collection_terms(data)\n",
        "print (\"\\n###Document terms Collection ###\" )\n",
        "display_dict(docs_terms_dict)"
      ],
      "execution_count": null,
      "outputs": []
    },
    {
      "cell_type": "markdown",
      "metadata": {
        "id": "zv6k6deZtS22"
      },
      "source": [
        "Next, we will implement a fucntion to build a term-incidence matrix"
      ]
    },
    {
      "cell_type": "code",
      "metadata": {
        "id": "9_LbD5y0tv-L"
      },
      "source": [
        "def term_document_incidence_matrix(docs_terms ,unique_terms):\n",
        "\n",
        "        term_docs_matrix={}\n",
        "        for term in unique_terms:\n",
        "            vector=[]\n",
        "            for c in docs_terms:\n",
        "\n",
        "                if term in docs_terms[c]:\n",
        "                    vector.append(1)\n",
        "                else :\n",
        "                    vector.append(0)\n",
        "\n",
        "            term_docs_matrix[term]=vector\n",
        "        return term_docs_matrix\n",
        "\n",
        "    \n",
        "def term_incidence_vector(term):\n",
        "    return term_docs_matrix[term]"
      ],
      "execution_count": null,
      "outputs": []
    },
    {
      "cell_type": "markdown",
      "metadata": {
        "id": "EDnRoqYtuK9Z"
      },
      "source": [
        "Let's build the term-document incidence matrix"
      ]
    },
    {
      "cell_type": "code",
      "metadata": {
        "id": "V17xFC5LuNR8"
      },
      "source": [
        "#build the term-document incidence matrix\n",
        "term_docs_matrix=term_document_incidence_matrix(docs_terms_dict,unique_terms)\n",
        "print(\"Term-Document incidence Matrix\\n\")\n",
        "#formatted Display \n",
        "display_dict(term_docs_matrix)\n"
      ],
      "execution_count": null,
      "outputs": []
    },
    {
      "cell_type": "markdown",
      "metadata": {
        "id": "Fb5jqkY-YcTh"
      },
      "source": [
        "Let's check the term incidence vector for the word العرب"
      ]
    },
    {
      "cell_type": "code",
      "metadata": {
        "id": "qxwTzQSvYgkT",
        "colab": {
          "base_uri": "https://localhost:8080/"
        },
        "outputId": "bd75d037-a74e-4468-a849-cfbf9091dd5d"
      },
      "source": [
        "print(\"Incidence Vector of 'العرب' \",term_incidence_vector('العرب'))"
      ],
      "execution_count": null,
      "outputs": [
        {
          "output_type": "stream",
          "text": [
            "Incidence Vector of 'العرب'  [0, 1, 0, 1, 0]\n"
          ],
          "name": "stdout"
        }
      ]
    },
    {
      "cell_type": "markdown",
      "metadata": {
        "id": "7JMwuyDEv9W_"
      },
      "source": [
        "### **Buidling a Boolean retrieval model**"
      ]
    },
    {
      "cell_type": "markdown",
      "metadata": {
        "id": "b20B9e9lZJwu"
      },
      "source": [
        "First, we need to implement our that tokenizes the query to differentiate between the terms and the boolean operators and select only those defined in our booleanModel class previously."
      ]
    },
    {
      "cell_type": "code",
      "metadata": {
        "id": "66jN1KCdwOvI"
      },
      "source": [
        "#Query Filteration\n",
        "#input : Query \n",
        "#output : List of terms of a given query which match with the terms in our datafiles\n",
        "def query_filteration(query):\n",
        "    qterms=[]\n",
        "    splitted_query=query.split()\n",
        "    for qterm in splitted_query:\n",
        "        if qterm in unique_terms or qterm in boolean_operators:\n",
        "          qterms.append(qterm)\n",
        "    return qterms"
      ],
      "execution_count": null,
      "outputs": []
    },
    {
      "cell_type": "markdown",
      "metadata": {
        "id": "AC33aTUaxtwH"
      },
      "source": [
        "Let's test our Query filteration function. "
      ]
    },
    {
      "cell_type": "code",
      "metadata": {
        "id": "5TldFFUxwa4H"
      },
      "source": [
        "query=\"استرجاع AND المعلومات AND دورة\"\n",
        "qterms=query_filteration(query)\n",
        "print(qterms)"
      ],
      "execution_count": null,
      "outputs": []
    },
    {
      "cell_type": "code",
      "metadata": {
        "id": "wRTGFSxNxsWw"
      },
      "source": [
        "# Boolean Operator Processing \n",
        "# input : Boolean Operator ,Next term Incedence Vector ,Previous term Incedence Vector \n",
        "def boolean_operator_processing(bool_operator,prevV,nextV):\n",
        "    if bool_operator == \"AND\":\n",
        "      return [a & b for a, b in zip(prevV, nextV)]\n",
        "    elif bool_operator==\"OR\" :\n",
        "      return [a | b for a, b in zip(prevV, nextV)]\n",
        "    elif bool_operator == \"NOT\":\n",
        "      return [1-a for a in prevV]"
      ],
      "execution_count": null,
      "outputs": []
    },
    {
      "cell_type": "markdown",
      "metadata": {
        "id": "pqhGtHJAwD1v"
      },
      "source": [
        "Let's test our BooleanOperatorProcessing function"
      ]
    },
    {
      "cell_type": "code",
      "metadata": {
        "colab": {
          "base_uri": "https://localhost:8080/"
        },
        "id": "wy7wp6s6yiCx",
        "outputId": "2182f21a-6e49-4a22-fc3c-5d6a1bae1845"
      },
      "source": [
        "v1=[0,1,0,1]\n",
        "v2=[0,0,1,1]\n",
        "v3=[]\n",
        "print(boolean_operator_processing(\"AND\",v1,v2))\n",
        "print(boolean_operator_processing(\"OR\",v1,v2))\n",
        "print(boolean_operator_processing(\"NOT\",v1,v3))"
      ],
      "execution_count": null,
      "outputs": [
        {
          "output_type": "stream",
          "text": [
            "[0, 0, 0, 1]\n",
            "[0, 1, 1, 1]\n",
            "[1, 0, 1, 0]\n"
          ],
          "name": "stdout"
        }
      ]
    },
    {
      "cell_type": "code",
      "metadata": {
        "id": "0m9Z6b5myw5Y"
      },
      "source": [
        "# Boolean retrieval fuction\n",
        "# input : Query \n",
        "# output : if Document is relevant > 1 else >0\n",
        "def boolean_retrieval(query):\n",
        "        bitwiseop=\"\"\n",
        "        qterms=query_filteration(query)\n",
        "        result=[]\n",
        "        result_set={}\n",
        "        has_previous_term=False\n",
        "        has_not_operation=False\n",
        "        inc_vec_prev=[]\n",
        "        inc_vec_next=[]\n",
        "        for term in qterms :\n",
        "            if term not in boolean_operators:\n",
        "                if  has_not_operation:\n",
        "                    if has_previous_term:\n",
        "                         inc_vec_next=boolean_operator_processing(\"NOT\",term_incidence_vector(term),inc_vec_next)\n",
        "                    else :\n",
        "                        inc_vec_prev=boolean_operator_processing(\"NOT\",term_incidence_vector(term),inc_vec_next)\n",
        "                        result=inc_vec_prev\n",
        "                    has_not_operation=False\n",
        "                    \n",
        "                elif  has_previous_term:\n",
        "                    \n",
        "                    inc_vec_next=term_incidence_vector(term)\n",
        "                else :\n",
        "                    \n",
        "                    inc_vec_prev=term_incidence_vector(term)\n",
        "                    result= inc_vec_prev\n",
        "                    has_previous_term=True    \n",
        "            \n",
        "            elif term ==\"NOT\":\n",
        "                 has_not_operation=True\n",
        "            \n",
        "            else :\n",
        "                bitwiseop=term\n",
        "                \n",
        "            if  len(inc_vec_next)!= 0  :\n",
        "                result = boolean_operator_processing(bitwiseop,inc_vec_prev,inc_vec_next)\n",
        "                inc_vec_prev=result\n",
        "                has_previous_term=True\n",
        "                inc_vec_next= []\n",
        "    \n",
        "        for i,doc in zip(result,data):\n",
        "            result_set[doc]=i\n",
        "        return result_set"
      ],
      "execution_count": null,
      "outputs": []
    },
    {
      "cell_type": "markdown",
      "metadata": {
        "id": "u4oP9tpnzMCK"
      },
      "source": [
        "Let's use our boolean retrieval model "
      ]
    },
    {
      "cell_type": "code",
      "metadata": {
        "id": "X8bAnUeHzRh_"
      },
      "source": [
        "query1 = \"العرب AND NOT المعلومات\"\n",
        "query2 = \"استرجاع AND المعلومات AND NOT العربية\"\n",
        "query3 = \"استرجاع OR الدورة OR سعداء\"\n",
        "print(\"query1 boolean retrieval result \",boolean_retrieval(query1))\n",
        "print(\"query2 boolean retrieval \",boolean_retrieval(query2))\n",
        "print(\"query3 boolean retrieval \",boolean_retrieval(query3))"
      ],
      "execution_count": null,
      "outputs": []
    },
    {
      "cell_type": "markdown",
      "metadata": {
        "id": "2FVdZjX5vHMg"
      },
      "source": [
        "### **Exercise1**"
      ]
    },
    {
      "cell_type": "markdown",
      "metadata": {
        "id": "Y4JSjI_KTvpl"
      },
      "source": [
        "Find the documents that contains the word **سعداء** or **الدورة** but does not contain \n",
        "the word **العرب**"
      ]
    },
    {
      "cell_type": "markdown",
      "metadata": {
        "id": "DElk2mxEvOoE"
      },
      "source": [
        "### **Exercise2**\n",
        "Using the sentences given below create your documents, build your term-document incidence matrix, create three different queries similar to the ones introduced during the lab, and retrieve the results of your queries.\n",
        "\n",
        "\n",
        "1. قضينا في الخليل ستة أشهر ثم بدأ أهل البلد يتوزعون منهم من أراد اللحاق بأقرباء له في طولكرم أو نابلس أو جنين و منهم من تسلل عائدا الى الجليل و منهم من ذهب الى سوريا\n",
        "2.   سيذهلني أن مريم و هي تسترجع ما جرى و تنقله الى أخيها تذكر تفاصيل الحوار \n",
        "بالنقطة و الفاصلة\n",
        "3. نعم زرت بيروت زرتها بعد خمس سنين من الغياب\n",
        "4.وعدتك يا حسن أن أتم هذا الكتاب و لكنني حين وصلت الى هذا الجزء من الحكاية   تيقنت أنني لن أستطيع\n",
        "5. حكت لي ممرضة من سكان شاتيلا أنها ذهبت الى مستشفى عكا يوم السبت بعد رحيل \n",
        "القوات من المنطقة\n",
        "\n",
        "**ملحوظة:** الجمل مقتبسة من رواية الطنطورية لرضوى عاشور\n"
      ]
    },
    {
      "cell_type": "markdown",
      "metadata": {
        "id": "71_fMCB2FXIG"
      },
      "source": [
        "### **References**\n",
        "\n",
        "\n",
        "*   [Information retrieval models.](https://github.com/YoucefBYu/Information-Retrieval-Models)\n",
        "\n"
      ]
    }
  ]
}