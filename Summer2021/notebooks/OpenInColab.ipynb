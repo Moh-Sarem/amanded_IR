{
  "nbformat": 4,
  "nbformat_minor": 0,
  "metadata": {
    "colab": {
      "name": "OpenInColab.ipynb",
      "provenance": [],
      "authorship_tag": "ABX9TyOhZuYrL3SEWi3l+dO3cjKY",
      "include_colab_link": true
    },
    "kernelspec": {
      "name": "python3",
      "display_name": "Python 3"
    },
    "language_info": {
      "name": "python"
    }
  },
  "cells": [
    {
      "cell_type": "markdown",
      "metadata": {
        "id": "view-in-github",
        "colab_type": "text"
      },
      "source": [
        "<a href=\"https://colab.research.google.com/github/telsayed/IR-in-Arabic/blob/master/Summer2021/notebooks/OpenInColab.ipynb\" target=\"_parent\"><img src=\"https://colab.research.google.com/assets/colab-badge.svg\" alt=\"Open In Colab\"/></a>"
      ]
    },
    {
      "cell_type": "code",
      "metadata": {
        "colab": {
          "base_uri": "https://localhost:8080/"
        },
        "id": "lJBHfegAw8kr",
        "outputId": "a2d67314-59b0-4a86-f34c-c31fc793cc5d"
      },
      "source": [
        "!pip install pyterrier"
      ],
      "execution_count": null,
      "outputs": [
        {
          "output_type": "stream",
          "text": [
            "Collecting pyterrier\n",
            "  Downloading https://files.pythonhosted.org/packages/a8/14/2ac2c8d33f298235d0e7e695edbd2a9efda5c9b74fe39ac134c99df17dbc/pyterrier-0.1.5-py2.py3-none-any.whl\n",
            "Requirement already satisfied: Click>=6.0 in /usr/local/lib/python3.7/dist-packages (from pyterrier) (7.1.2)\n",
            "Requirement already satisfied: jinja2>=2.10 in /usr/local/lib/python3.7/dist-packages (from pyterrier) (2.11.3)\n",
            "Requirement already satisfied: MarkupSafe>=0.23 in /usr/local/lib/python3.7/dist-packages (from jinja2>=2.10->pyterrier) (2.0.1)\n",
            "Installing collected packages: pyterrier\n",
            "Successfully installed pyterrier-0.1.5\n"
          ],
          "name": "stdout"
        }
      ]
    }
  ]
}