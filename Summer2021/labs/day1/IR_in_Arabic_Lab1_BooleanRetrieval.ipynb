{
  "nbformat": 4,
  "nbformat_minor": 0,
  "metadata": {
    "colab": {
      "name": "IR-in-Arabic_Lab1-BooleanRetrieval.ipynb",
      "provenance": [],
      "collapsed_sections": [],
      "include_colab_link": true
    },
    "kernelspec": {
      "name": "python3",
      "display_name": "Python 3"
    },
    "language_info": {
      "name": "python"
    }
  },
  "cells": [
    {
      "cell_type": "markdown",
      "metadata": {
        "id": "view-in-github",
        "colab_type": "text"
      },
      "source": [
        "<a href=\"https://colab.research.google.com/github/telsayed/IR-in-Arabic/blob/master/Summer2021/labs/day1/IR_in_Arabic_Lab1_BooleanRetrieval.ipynb\" target=\"_parent\"><img src=\"https://colab.research.google.com/assets/colab-badge.svg\" alt=\"Open In Colab\"/></a>"
      ]
    },
    {
      "cell_type": "markdown",
      "metadata": {
        "id": "5ZzUxXUVMVVU"
      },
      "source": [
        "\n",
        "\n",
        "# **IR in Arabic** - Summer 2021 lab day1\n"
      ]
    },
    {
      "cell_type": "markdown",
      "metadata": {
        "id": "2kjTczIiMctt"
      },
      "source": [
        "This is one of a series of Colab notebooks created for the **IR in Arabic** course. It demonstrates how can we build a Term-Document incidence matrix and a boolean retrieval model.\n",
        "\n",
        "The **learning outcomes** of the this notebook are:\n",
        "\n",
        "\n",
        "*   What is Colab and how can we run our code?\n",
        "*   Build a Term-Document incidence Matrix and visualize it.\n",
        "*   Build a boolean retrieval model that can answer boolean queries.\n",
        "\n"
      ]
    },
    {
      "cell_type": "markdown",
      "metadata": {
        "id": "So4LG0fB1HKb"
      },
      "source": [
        "# What is colab?\n",
        "\n",
        "**[Colaboratory](https://research.google.com/colaboratory/faq.html)**, or “Colab” for short, is a product from Google Research. Colab allows anybody to write and execute arbitrary python code through the browser, and is especially well suited to machine learning, data analysis and education. More technically, Colab is a hosted Jupyter notebook service that requires no setup to use, while providing free access to computing resources including GPUs.\n",
        "\n",
        "# How can you have your own copy of this lab?\n",
        "\n",
        "You have to make a copy of this notebook by clicking **open in colab**, then go to **File->Save a copy in Drive**. This will create your version of this lab saved in your Google Drive."
      ]
    },
    {
      "cell_type": "markdown",
      "metadata": {
        "id": "7D1aDfiaAZ8Z"
      },
      "source": [
        "### **Running a simple code on colab.**"
      ]
    },
    {
      "cell_type": "code",
      "metadata": {
        "id": "_NP26TwQwYJ-"
      },
      "source": [
        "print(\"مرحبا بكم في دورة استرجاع المعلومات\")"
      ],
      "execution_count": null,
      "outputs": []
    },
    {
      "cell_type": "markdown",
      "metadata": {
        "id": "1-RDU75PA45P"
      },
      "source": [
        "### **Build a Term-Document incidence Matrix and visualize it.**"
      ]
    },
    {
      "cell_type": "markdown",
      "metadata": {
        "id": "X-gYOgFTb1u1"
      },
      "source": [
        "Let's create a set of textual documents to create our collection."
      ]
    },
    {
      "cell_type": "code",
      "metadata": {
        "id": "YGPQ5cgYb85k",
        "colab": {
          "base_uri": "https://localhost:8080/"
        },
        "outputId": "b46d7649-ec44-4ea9-83c8-bc53f5a00f63"
      },
      "source": [
        " d0 = \"هذا هو اليوم الأول من دورة استرجاع المعلومات\"\n",
        " d1 = \"الدورة باللغة العربية للطلاب العرب\"\n",
        " d2 = \"اليوم هو 30 مايو 2021\"\n",
        " d3 = \"نأمل أن تفيد هذه الدورة الطلاب العرب\"\n",
        " d4 = \"هل أنتم سعداء بهذه التجربة\"\n",
        " collection = {\"doc0\": d0,\n",
        "         \"doc1\": d1, \n",
        "         \"doc2\": d2, \n",
        "         \"doc3\": d3,\n",
        "         \"doc4\": d4}\n",
        "collection"
      ],
      "execution_count": null,
      "outputs": [
        {
          "output_type": "execute_result",
          "data": {
            "text/plain": [
              "{'doc0': 'هذا هو اليوم الأول من دورة استرجاع المعلومات',\n",
              " 'doc1': 'الدورة باللغة العربية للطلاب العرب',\n",
              " 'doc2': 'اليوم هو 30 مايو 2021',\n",
              " 'doc3': 'نأمل أن تفيد هذه الدورة الطلاب العرب',\n",
              " 'doc4': 'هل أنتم سعداء بهذه التجربة'}"
            ]
          },
          "metadata": {
            "tags": []
          },
          "execution_count": 90
        }
      ]
    },
    {
      "cell_type": "markdown",
      "metadata": {
        "id": "0AUB6J3MBct_"
      },
      "source": [
        "Let's define our boolean operators."
      ]
    },
    {
      "cell_type": "code",
      "metadata": {
        "id": "zMRqaPgoSyIc"
      },
      "source": [
        "boolean_operators = {'AND', 'OR', 'NOT'}"
      ],
      "execution_count": null,
      "outputs": []
    },
    {
      "cell_type": "markdown",
      "metadata": {
        "id": "OVn7RVpCtVvF"
      },
      "source": [
        "We need to implement some helper functions below"
      ]
    },
    {
      "cell_type": "code",
      "metadata": {
        "id": "Yu4ohBCYtGyV"
      },
      "source": [
        "  #list of terms\n",
        "  def get_terms(data):\n",
        "        terms=[]\n",
        "        for doc in data:\n",
        "            for term in data[doc].split() :\n",
        "                terms.append(term)\n",
        "        return terms\n",
        "\n",
        "   #list of unique terms\n",
        "  def get_unique_terms(terms):\n",
        "        unique_terms=[]\n",
        "        for d in terms :\n",
        "            if d not in unique_terms:\n",
        "               unique_terms.append(d)\n",
        "        return unique_terms\n",
        "\n",
        "  #document collection terms\n",
        "  def get_document_collection_terms(data):\n",
        "        docs_colllection={}\n",
        "        for doc in data:\n",
        "            if doc not in boolean_operators :\n",
        "                docs_colllection[doc]=get_unique_terms(data[doc].split())\n",
        "        return docs_colllection\n",
        "           \n",
        "  def display_dict(dic):\n",
        "        print(\"\\n\")\n",
        "        for i in dic:\n",
        "            print (i , \" : \" ,dic[i])\n",
        "        print(\"\\n\")"
      ],
      "execution_count": null,
      "outputs": []
    },
    {
      "cell_type": "markdown",
      "metadata": {
        "id": "ndVd0b8zsod6"
      },
      "source": [
        "Let's check the output of our helper functions."
      ]
    },
    {
      "cell_type": "code",
      "metadata": {
        "id": "qWvYkakn4EQM"
      },
      "source": [
        "#print our collection\n",
        "print(\"### documents content ###\")\n",
        "display_dict(collection)"
      ],
      "execution_count": null,
      "outputs": []
    },
    {
      "cell_type": "code",
      "metadata": {
        "id": "sbpjJdENsvFz"
      },
      "source": [
        "#print the terms available in the collection\n",
        "print (\"\\n### Terms in 5 docs ###\\n\" , *get_terms(collection) ,sep= \" | \")"
      ],
      "execution_count": null,
      "outputs": []
    },
    {
      "cell_type": "code",
      "metadata": {
        "id": "B1Mujl8_HGC-"
      },
      "source": [
        "#print the unique_terms available in the collection\n",
        "terms=get_terms(collection)\n",
        "print (\"\\n### Unique Terms in 5 DOCs###\\n\", *get_unique_terms(terms) ,sep=\" | \")"
      ],
      "execution_count": null,
      "outputs": []
    },
    {
      "cell_type": "code",
      "metadata": {
        "id": "YVMYVXZcHK--"
      },
      "source": [
        "#print the unique terms in each collection in a dictionary format\n",
        "print (\"\\n###Document terms Collection ###\" )\n",
        "display_dict(get_document_collection_terms(collection))"
      ],
      "execution_count": null,
      "outputs": []
    },
    {
      "cell_type": "markdown",
      "metadata": {
        "id": "zv6k6deZtS22"
      },
      "source": [
        "Next, we will implement a function to build a term-document incidence matrix"
      ]
    },
    {
      "cell_type": "code",
      "metadata": {
        "id": "9_LbD5y0tv-L"
      },
      "source": [
        "#this function takes the collection of documents in a form of dictionary as an input\n",
        "def term_document_incidence_matrix(collection):\n",
        "        ## list of terms from the data file collection\n",
        "        terms=get_terms(collection)\n",
        "        #list of unique terms\n",
        "        unique_terms=get_unique_terms(terms)\n",
        "        #Document collection terms\n",
        "        docs_terms=get_document_collection_terms(collection)\n",
        "        #TermDocumentIncidenceMatrix \n",
        "        term_docs_matrix={}\n",
        "        for term in unique_terms:\n",
        "            vector=[]\n",
        "            for c in docs_terms:\n",
        "\n",
        "                if term in docs_terms[c]:\n",
        "                    vector.append(1)\n",
        "                else :\n",
        "                    vector.append(0)\n",
        "\n",
        "            term_docs_matrix[term]=vector\n",
        "        return term_docs_matrix\n",
        "\n",
        "#this fucntion takes a term and a terms-document incidence matrix and returns the incidence vector of the term \n",
        "#this function just for explanation and display purposes   \n",
        "def term_incidence_vector(term,term_docs_incid_matrix):\n",
        "    try:\n",
        "     return term_docs_incid_matrix[term]\n",
        "    except:\n",
        "     return \"term not found\""
      ],
      "execution_count": null,
      "outputs": []
    },
    {
      "cell_type": "markdown",
      "metadata": {
        "id": "EDnRoqYtuK9Z"
      },
      "source": [
        "Let's build the term-document incidence matrix"
      ]
    },
    {
      "cell_type": "code",
      "metadata": {
        "id": "V17xFC5LuNR8"
      },
      "source": [
        "#build the term-document incidence matrix\n",
        "term_docs_incid_matrix=term_document_incidence_matrix(collection)\n",
        "print(\"Term-Document incidence Matrix\\n\")\n",
        "#formatted Display \n",
        "display_dict(term_docs_incid_matrix)\n"
      ],
      "execution_count": null,
      "outputs": []
    },
    {
      "cell_type": "markdown",
      "metadata": {
        "id": "Fb5jqkY-YcTh"
      },
      "source": [
        "Let's check the term incidence vector for the word العرب"
      ]
    },
    {
      "cell_type": "code",
      "metadata": {
        "id": "qxwTzQSvYgkT"
      },
      "source": [
        "print(\"Incidence Vector of 'العرب' \",term_incidence_vector('العرب',term_docs_incid_matrix))"
      ],
      "execution_count": null,
      "outputs": []
    },
    {
      "cell_type": "markdown",
      "metadata": {
        "id": "7JMwuyDEv9W_"
      },
      "source": [
        "### **Buidling a Boolean retrieval model**"
      ]
    },
    {
      "cell_type": "markdown",
      "metadata": {
        "id": "b20B9e9lZJwu"
      },
      "source": [
        "First, we need to implement our function that splits the query to differentiate between the terms and the boolean operators, and considers only boolean operators defined previously and the terms available in our collection.\n"
      ]
    },
    {
      "cell_type": "code",
      "metadata": {
        "id": "66jN1KCdwOvI"
      },
      "source": [
        "#Query Filteration\n",
        "#input : Query \n",
        "#output : List of terms of a given query which match with the terms in our collection and the our defined boolean operators\n",
        "def query_filteration(query,collection):\n",
        "    terms= get_terms(collection)\n",
        "    unique_terms=get_unique_terms(terms)\n",
        "    qterms=[]\n",
        "    splitted_query=query.split()\n",
        "    for qterm in splitted_query:\n",
        "        if qterm in unique_terms or qterm in boolean_operators:\n",
        "          qterms.append(qterm)\n",
        "    return qterms"
      ],
      "execution_count": null,
      "outputs": []
    },
    {
      "cell_type": "markdown",
      "metadata": {
        "id": "AC33aTUaxtwH"
      },
      "source": [
        "Let's test our query filteration function. "
      ]
    },
    {
      "cell_type": "code",
      "metadata": {
        "id": "5TldFFUxwa4H"
      },
      "source": [
        "query=\"استرجاع AND المعلومات AND دورة\"\n",
        "qterms=query_filteration(query,collection)\n",
        "print(qterms)"
      ],
      "execution_count": null,
      "outputs": []
    },
    {
      "cell_type": "markdown",
      "metadata": {
        "id": "tqLSGLsFKyvA"
      },
      "source": [
        "If a term is not defined in our collection,or a boolean operator is not defined in our set of our boolean operators it will not be considered."
      ]
    },
    {
      "cell_type": "code",
      "metadata": {
        "id": "kRwGLvW-OTI4"
      },
      "source": [
        "#and should be capitalized and اليمن is not in our collection\n",
        "query=\"استرجاع and المعلومات AND اليمن\"\n",
        "qterms=query_filteration(query,collection)\n",
        "print(qterms)"
      ],
      "execution_count": null,
      "outputs": []
    },
    {
      "cell_type": "code",
      "metadata": {
        "id": "wRTGFSxNxsWw"
      },
      "source": [
        "# Boolean Operator Processing \n",
        "# input : Boolean Operator ,Next term Incedence Vector ,Previous term Incedence Vector \n",
        "def boolean_operator_processing(bool_operator,prevV,nextV):\n",
        "    if bool_operator == \"AND\":\n",
        "      return [a & b for a, b in zip(prevV, nextV)]\n",
        "    elif bool_operator==\"OR\" :\n",
        "      return [a | b for a, b in zip(prevV, nextV)]\n",
        "    elif bool_operator == \"NOT\":\n",
        "      return [1-a for a in prevV]"
      ],
      "execution_count": null,
      "outputs": []
    },
    {
      "cell_type": "markdown",
      "metadata": {
        "id": "pqhGtHJAwD1v"
      },
      "source": [
        "Let's test our BooleanOperatorProcessing function"
      ]
    },
    {
      "cell_type": "code",
      "metadata": {
        "id": "OIpJm4EgStwt"
      },
      "source": [
        "v1=term_incidence_vector('استرجاع',term_docs_incid_matrix)\n",
        "v2=term_incidence_vector('الدورة',term_docs_incid_matrix)\n",
        "v3=[]\n",
        "print('v1',v1)\n",
        "print('v2',v2)"
      ],
      "execution_count": null,
      "outputs": []
    },
    {
      "cell_type": "code",
      "metadata": {
        "id": "83uEZtWxewv4"
      },
      "source": [
        "print(boolean_operator_processing(\"AND\",v1,v2))"
      ],
      "execution_count": null,
      "outputs": []
    },
    {
      "cell_type": "code",
      "metadata": {
        "id": "JZYdVMu3fA9c"
      },
      "source": [
        "print(boolean_operator_processing(\"OR\",v1,v2))"
      ],
      "execution_count": null,
      "outputs": []
    },
    {
      "cell_type": "code",
      "metadata": {
        "id": "deoEbr4IfLTB"
      },
      "source": [
        "print(boolean_operator_processing(\"NOT\",v1,v3))"
      ],
      "execution_count": null,
      "outputs": []
    },
    {
      "cell_type": "code",
      "metadata": {
        "id": "0m9Z6b5myw5Y"
      },
      "source": [
        "# Boolean retrieval function\n",
        "# input : Query \n",
        "def boolean_retrieval(query,collection):\n",
        "        #build a terms_documents incidence matrix\n",
        "        term_docs_incid_matrix=term_document_incidence_matrix(collection)\n",
        "        bitwiseop=\"\"\n",
        "        #get the query terms\n",
        "        qterms=query_filteration(query,collection)\n",
        "        result=[]\n",
        "        result_set={}\n",
        "        has_previous_term=False\n",
        "        has_not_operation=False\n",
        "        inc_vec_prev=[]\n",
        "        inc_vec_next=[]\n",
        "        for term in qterms :\n",
        "            if term not in boolean_operators:\n",
        "                if  has_not_operation:\n",
        "                    if has_previous_term:\n",
        "                         inc_vec_next=boolean_operator_processing(\"NOT\",term_docs_incid_matrix[term],inc_vec_next)\n",
        "                    else :\n",
        "                        inc_vec_prev=boolean_operator_processing(\"NOT\",term_docs_incid_matrix[term],inc_vec_next)\n",
        "                        result=inc_vec_prev\n",
        "                    has_not_operation=False\n",
        "                    \n",
        "                elif  has_previous_term:\n",
        "                    \n",
        "                    inc_vec_next=term_docs_incid_matrix[term]\n",
        "                else :\n",
        "                    \n",
        "                    inc_vec_prev=term_docs_incid_matrix[term]\n",
        "                    result= inc_vec_prev\n",
        "                    has_previous_term=True    \n",
        "            \n",
        "            elif term ==\"NOT\":\n",
        "                 has_not_operation=True\n",
        "            \n",
        "            else :\n",
        "                bitwiseop=term\n",
        "                \n",
        "            if  len(inc_vec_next)!= 0  :\n",
        "                result = boolean_operator_processing(bitwiseop,inc_vec_prev,inc_vec_next)\n",
        "                inc_vec_prev=result\n",
        "                has_previous_term=True\n",
        "                inc_vec_next= []\n",
        "    \n",
        "        for i,doc in zip(result,collection):\n",
        "            result_set[doc]=i\n",
        "        return result_set"
      ],
      "execution_count": null,
      "outputs": []
    },
    {
      "cell_type": "markdown",
      "metadata": {
        "id": "u4oP9tpnzMCK"
      },
      "source": [
        "Let's use our boolean retrieval model "
      ]
    },
    {
      "cell_type": "code",
      "metadata": {
        "id": "wq3BDUm5Lk9Y"
      },
      "source": [
        "#print the collection to check whether the boolean retrieval output is correct or not easily\n",
        "collection"
      ],
      "execution_count": null,
      "outputs": []
    },
    {
      "cell_type": "code",
      "metadata": {
        "id": "-jW5vB2l9Kwq"
      },
      "source": [
        "query1 = \"استرجاع OR الدورة OR سعداء\"\n",
        "print(\"query1 boolean retrieval \",boolean_retrieval(query1,collection))"
      ],
      "execution_count": null,
      "outputs": []
    },
    {
      "cell_type": "code",
      "metadata": {
        "id": "Zp3RyBAAhf2C"
      },
      "source": [
        "v1=term_incidence_vector(\"استرجاع\",term_docs_incid_matrix)\n",
        "v1"
      ],
      "execution_count": null,
      "outputs": []
    },
    {
      "cell_type": "code",
      "metadata": {
        "id": "-5O0zCfuiNVb"
      },
      "source": [
        "v2=term_incidence_vector(\"الدورة\",term_docs_incid_matrix)\n",
        "v2"
      ],
      "execution_count": null,
      "outputs": []
    },
    {
      "cell_type": "code",
      "metadata": {
        "id": "JtyguP9ojRy2"
      },
      "source": [
        "Qpart1=boolean_operator_processing(\"OR\",v1,v2)\n",
        "Qpart1"
      ],
      "execution_count": null,
      "outputs": []
    },
    {
      "cell_type": "code",
      "metadata": {
        "id": "tPkeL_Sxjhoq"
      },
      "source": [
        "v3=term_incidence_vector(\"سعداء\",term_docs_incid_matrix)\n",
        "v3"
      ],
      "execution_count": null,
      "outputs": []
    },
    {
      "cell_type": "code",
      "metadata": {
        "id": "r0nPtKuTjyfm"
      },
      "source": [
        "boolean_operator_processing(\"OR\",Qpart1,v3)"
      ],
      "execution_count": null,
      "outputs": []
    },
    {
      "cell_type": "code",
      "metadata": {
        "id": "Wb2gmHxtj-Wc"
      },
      "source": [
        "#print the collection to check whether the boolean retrieval output is correct or not easily\n",
        "collection"
      ],
      "execution_count": null,
      "outputs": []
    },
    {
      "cell_type": "code",
      "metadata": {
        "id": "F5aTdADB9bJX"
      },
      "source": [
        "query2 = \"استرجاع AND المعلومات AND NOT العربية\"\n",
        "print(\"query2 boolean retrieval \",boolean_retrieval(query2,collection))"
      ],
      "execution_count": null,
      "outputs": []
    },
    {
      "cell_type": "code",
      "metadata": {
        "id": "3Qfk0our9iph"
      },
      "source": [
        "query3 = \"العرب AND NOT المعلومات\"\n",
        "print(\"query3 boolean retrieval result \",boolean_retrieval(query3,collection))"
      ],
      "execution_count": null,
      "outputs": []
    },
    {
      "cell_type": "markdown",
      "metadata": {
        "id": "2FVdZjX5vHMg"
      },
      "source": [
        "### **Exercise1**"
      ]
    },
    {
      "cell_type": "markdown",
      "metadata": {
        "id": "Y4JSjI_KTvpl"
      },
      "source": [
        "Find the documents that contains the word **سعداء** or **الدورة** but does not contain \n",
        "the word **العرب**"
      ]
    },
    {
      "cell_type": "code",
      "metadata": {
        "id": "2F4eYc1z8D_A"
      },
      "source": [
        ""
      ],
      "execution_count": null,
      "outputs": []
    },
    {
      "cell_type": "markdown",
      "metadata": {
        "id": "DElk2mxEvOoE"
      },
      "source": [
        "### **Exercise2**\n",
        "Using the sentences given below create your documents, build your term-document incidence matrix, and use the given three queries to retrieve their relevant documents.\n",
        "\n",
        "\n",
        "1. قضينا في الخليل ستة أشهر ثم بدأ أهل البلد يتوزعون منهم من أراد اللحاق بأقرباء له في طولكرم أو نابلس أو جنين و منهم من تسلل عائدا الى الجليل و منهم من ذهب الى سوريا\n",
        "2.   الحرب تخيف كثيراً  لكنها تعلم تعلمك الحرب أن الكلمات قد لا تعني مدلولاتها بشكل كامل \n",
        "3. نعم زرت بيروت زرتها بعد خمس سنين من الغياب\n",
        "4.ويلجم الجميع لا أحد يستطيع تفسير ما حصل يتمتمون الجيوش العربية ستتدخل أجل ستتدخل بالتأكيد هل يترك العرب فلسطين تضيع\n",
        "5. ترحل إلى بيروت تظنها نهاية الحرب وبداية الاستقرار يخونها حدسها الحرب هنا غير تلك في فلسطين لكنها الحرب التي لا تعبأ بك وبمن تكون\n",
        "**ملحوظة:** الجمل مقتبسة من رواية الطنطورية لرضوى عاشور\n",
        "\n",
        "\n",
        "*   **query1:** بيروت OR فلسطين OR سوريا\n",
        "*   **query2:** الحرب AND فلسطين\n",
        "*   **query3:** الحرب AND NOT فلسطين  \n",
        "\n"
      ]
    },
    {
      "cell_type": "code",
      "metadata": {
        "id": "lfiakdKo3Bwn"
      },
      "source": [
        "#create your collection"
      ],
      "execution_count": null,
      "outputs": []
    },
    {
      "cell_type": "code",
      "metadata": {
        "id": "dpi2iQLIGAT6"
      },
      "source": [
        "#build the term incidence matrix"
      ],
      "execution_count": null,
      "outputs": []
    },
    {
      "cell_type": "code",
      "metadata": {
        "id": "hTwwlEeYMgny"
      },
      "source": [
        "#boolean retrieval query1\n"
      ],
      "execution_count": null,
      "outputs": []
    },
    {
      "cell_type": "code",
      "metadata": {
        "id": "2UMkU1yDGUfn"
      },
      "source": [
        "#boolean retrieval query2\n"
      ],
      "execution_count": null,
      "outputs": []
    },
    {
      "cell_type": "code",
      "metadata": {
        "id": "UreplVSk3VQS"
      },
      "source": [
        "#boolean retrieval query3\n"
      ],
      "execution_count": null,
      "outputs": []
    },
    {
      "cell_type": "markdown",
      "metadata": {
        "id": "71_fMCB2FXIG"
      },
      "source": [
        "### **References**\n",
        "\n",
        "\n",
        "*   [Information retrieval models.](https://github.com/YoucefBYu/Information-Retrieval-Models)\n",
        "\n"
      ]
    }
  ]
}